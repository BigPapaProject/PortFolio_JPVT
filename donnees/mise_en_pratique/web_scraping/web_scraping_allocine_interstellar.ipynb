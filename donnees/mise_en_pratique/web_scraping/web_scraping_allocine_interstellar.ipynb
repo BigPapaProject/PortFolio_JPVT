{
 "cells": [
  {
   "cell_type": "markdown",
   "metadata": {},
   "source": [
    "# Interstellar : Calcul de l'âge moyen des acteurs et actrices"
   ]
  },
  {
   "cell_type": "markdown",
   "metadata": {},
   "source": [
    "## Introduction"
   ]
  },
  {
   "cell_type": "markdown",
   "metadata": {},
   "source": [
    "Dans ce notebook, nous allons calculer l'âge moyen des acteurs et actrices du film **Interstellar** en utilisant le web crawling.\n",
    "\n",
    "Nous suivrons les étapes suivantes :\n",
    "\n",
    "1. **Objectif du projet** : Comprendre les étapes du crawling et du traitement des données.\n",
    "2. **Exploration de la base de données cible** : Extraction des informations depuis Allociné.\n",
    "3. **Calcul des âges** : Analyse et calcul des résultats."
   ]
  },
  {
   "cell_type": "markdown",
   "metadata": {},
   "source": [
    "## Étape 1 : Importation des bibliothèques nécessaires"
   ]
  },
  {
   "cell_type": "code",
   "execution_count": 1,
   "metadata": {},
   "outputs": [],
   "source": [
    "import requests\n",
    "from bs4 import BeautifulSoup\n",
    "import datetime\n",
    "import pandas as pd"
   ]
  },
  {
   "cell_type": "markdown",
   "metadata": {},
   "source": [
    "## Étape 2 : Analyse de la structure de la page Web"
   ]
  },
  {
   "cell_type": "markdown",
   "metadata": {},
   "source": [
    "Le lien vers la filmographie de Christopher Nolan est : [https://www.allocine.fr/personne/fichepersonne-30367/filmographie](https://www.allocine.fr/personne/fichepersonne-30367/filmographie).\n",
    "\n",
    "Nous devons :\n",
    "- Identifier les informations sur les acteurs et actrices pour le film *Interstellar*.\n",
    "- Extraire les liens vers les pages de profil des acteurs."
   ]
  },
  {
   "cell_type": "code",
   "execution_count": 2,
   "metadata": {},
   "outputs": [
    {
     "name": "stdout",
     "output_type": "stream",
     "text": [
      "Page téléchargée avec succès !\n"
     ]
    }
   ],
   "source": [
    "# Étape 2.1 : Télécharger la page Web\n",
    "data_url = \"https://www.allocine.fr/personne/fichepersonne-30367/filmographie\"\n",
    "response = requests.get(data_url)\n",
    "\n",
    "# Vérification du statut de la requête\n",
    "if response.status_code == 200:\n",
    "    print(\"Page téléchargée avec succès !\")\n",
    "else:\n",
    "    print(\"Erreur lors du téléchargement de la page.\")"
   ]
  },
  {
   "cell_type": "code",
   "execution_count": 3,
   "metadata": {},
   "outputs": [
    {
     "name": "stdout",
     "output_type": "stream",
     "text": [
      "URL du film Interstellar : https://www.allocine.fr/film/fichefilm_gen_cfilm=114782.html\n"
     ]
    }
   ],
   "source": [
    "# Étape 2.2 : Parser le contenu avec BeautifulSoup\n",
    "soup = BeautifulSoup(response.text, 'html.parser')\n",
    "\n",
    "# Étape 2.3 : Localiser la section du film Interstellar\n",
    "# Extraction des informations sur les acteurs et actrices\n",
    "interstellar_section = soup.find('a', string='Interstellar')\n",
    "\n",
    "if interstellar_section:\n",
    "    film_url = \"https://www.allocine.fr\" + interstellar_section['href']\n",
    "    print(f\"URL du film Interstellar : {film_url}\")\n",
    "else:\n",
    "    print(\"Film Interstellar non trouvé dans la filmographie.\")"
   ]
  },
  {
   "cell_type": "markdown",
   "metadata": {},
   "source": [
    "## Étape 3 : Extraction des données des acteurs et actrices"
   ]
  },
  {
   "cell_type": "markdown",
   "metadata": {},
   "source": [
    "Nous accédons maintenant à la page d'Interstellar pour extraire les profils des acteurs et actrices."
   ]
  },
  {
   "cell_type": "code",
   "execution_count": 20,
   "metadata": {},
   "outputs": [
    {
     "name": "stdout",
     "output_type": "stream",
     "text": [
      "Nombre total d'acteurs trouvés : 23\n",
      "Exemple de liens :\n",
      "['https://www.allocine.fr/personne/fichepersonne_gen_cpersonne=2535.html', 'https://www.allocine.fr/personne/fichepersonne_gen_cpersonne=525421.html', 'https://www.allocine.fr/personne/fichepersonne_gen_cpersonne=1192.html', 'https://www.allocine.fr/personne/fichepersonne_gen_cpersonne=46687.html', 'https://www.allocine.fr/personne/fichepersonne_gen_cpersonne=81745.html']\n"
     ]
    }
   ],
   "source": [
    "import requests\n",
    "from bs4 import BeautifulSoup\n",
    "import re\n",
    "import numpy as np\n",
    "\n",
    "# URL de la page de casting du film Interstellar\n",
    "base_url = \"https://www.allocine.fr\"\n",
    "casting_url = f\"{base_url}/film/fichefilm-114782/casting/\"\n",
    "\n",
    "# Récupérer les liens des fiches acteurs\n",
    "reponse = requests.get(casting_url)\n",
    "soup = BeautifulSoup(reponse.text, \"html.parser\")\n",
    "\n",
    "# Trouver la section contenant les acteurs\n",
    "casting_section = soup.find(\"section\", class_=\"section casting-actor\")\n",
    "\n",
    "if not casting_section:\n",
    "    raise Exception(\"La section contenant le casting n'a pas été trouvée. Vérifiez la structure HTML.\")\n",
    "\n",
    "# Récupérer les liens des acteurs, en incluant toutes les classes finissant par 'link' (y compris 'xXx item link')\n",
    "actor_links = []\n",
    "\n",
    "# Cibler toutes les balises <a> qui ont un attribut href, et qui contiennent la classe 'link' (quelle que soit la structure exacte de la classe)\n",
    "for link_tag in casting_section.find_all(\"a\", href=True):\n",
    "    class_attr = link_tag.get('class', [])\n",
    "    # Vérifier si la classe contient un élément 'link', peu importe les autres parties de la classe\n",
    "    if any('link' in class_name for class_name in class_attr):\n",
    "        actor_links.append(base_url + link_tag[\"href\"])\n",
    "\n",
    "# Supprimer les doublons éventuels\n",
    "actor_links = list(set(actor_links))  # On utilise set() pour garder les liens uniques\n",
    "print(f\"Nombre total d'acteurs trouvés : {len(actor_links)}\")\n",
    "print(\"Exemple de liens :\")\n",
    "print(actor_links[:5])  # Afficher les 5 premiers liens\n"
   ]
  },
  {
   "cell_type": "code",
   "execution_count": 21,
   "metadata": {},
   "outputs": [
    {
     "name": "stdout",
     "output_type": "stream",
     "text": [
      "                       Nom Année de Naissance\n",
      "0            Michael Caine               1933\n",
      "1        Timothée Chalamet               1995\n",
      "2               Matt Damon               1970\n",
      "3             Topher Grace               1978\n",
      "4      Francis X. McCarthy               None\n",
      "5            Casey Affleck               1975\n",
      "6            Ellen Burstyn               1932\n",
      "7              Elyes Gabel               1983\n",
      "8           William Devane               1937\n",
      "9              Wes Bentley               1978\n",
      "10        Jessica Chastain               1977\n",
      "11           Anne Hathaway               1982\n",
      "12           David Oyelowo               1976\n",
      "13  Mark Casimir Dyniewicz               None\n",
      "14            John Lithgow               1945\n",
      "15          Collette Wolfe               None\n",
      "16     Matthew McConaughey               1969\n",
      "17            Andrew Borba               None\n",
      "18            Lena Georgas               None\n",
      "19           Mackenzie Foy               2000\n",
      "20             Leah Cairns               1974\n",
      "21             David Gyasi               1980\n",
      "22            Jeff Hephner               1975\n"
     ]
    }
   ],
   "source": [
    "# DataFrame pour stocker les résultats\n",
    "actor_data = []\n",
    "\n",
    "# Parcourir chaque lien des acteurs\n",
    "for actor_link in actor_links:\n",
    "    # Accéder à la page de chaque acteur\n",
    "    response = requests.get(actor_link)\n",
    "    soup = BeautifulSoup(response.text, \"html.parser\")\n",
    "    \n",
    "    # Extraire le nom de l'acteur\n",
    "    name_tag = soup.find(\"div\", class_=\"titlebar-title titlebar-title-xl\")\n",
    "    if name_tag:\n",
    "        actor_name = name_tag.get_text(strip=True)\n",
    "    else:\n",
    "        actor_name = \"Nom inconnu\"\n",
    "\n",
    "    # Extraire la date de naissance à partir du JSON-LD\n",
    "    birth_year = None\n",
    "    script_tag = soup.find(\"script\", type=\"application/ld+json\")\n",
    "    if script_tag:\n",
    "        json_data = script_tag.string\n",
    "        if '\"birthDate\":' in json_data:\n",
    "            # Extraire l'année de naissance du champ birthDate\n",
    "            birth_date = json_data.split('\"birthDate\":')[1].split('\"')[1]  # Extrait la date complète\n",
    "            birth_year = birth_date.split('-')[0]  # Récupère l'année (avant le premier tiret)\n",
    "\n",
    "    # Ajouter les informations dans le DataFrame\n",
    "    actor_data.append([actor_name, birth_year])\n",
    "\n",
    "# Créer un DataFrame avec les informations\n",
    "df_actors = pd.DataFrame(actor_data, columns=[\"Nom\", \"Année de Naissance\"])\n",
    "\n",
    "# Afficher le DataFrame\n",
    "print(df_actors)\n"
   ]
  },
  {
   "cell_type": "markdown",
   "metadata": {},
   "source": [
    "## Étape 4 : Calcul de l'Age Moyen des Acteurs"
   ]
  },
  {
   "cell_type": "markdown",
   "metadata": {},
   "source": [
    "### Calcul de l'Age des Acteurs lors de la sortie du Film en 2014"
   ]
  },
  {
   "cell_type": "code",
   "execution_count": 24,
   "metadata": {},
   "outputs": [
    {
     "name": "stdout",
     "output_type": "stream",
     "text": [
      "                       Nom  Année de Naissance   Age\n",
      "0            Michael Caine              1933.0  81.0\n",
      "1        Timothée Chalamet              1995.0  19.0\n",
      "2               Matt Damon              1970.0  44.0\n",
      "3             Topher Grace              1978.0  36.0\n",
      "4      Francis X. McCarthy                 NaN   NaN\n",
      "5            Casey Affleck              1975.0  39.0\n",
      "6            Ellen Burstyn              1932.0  82.0\n",
      "7              Elyes Gabel              1983.0  31.0\n",
      "8           William Devane              1937.0  77.0\n",
      "9              Wes Bentley              1978.0  36.0\n",
      "10        Jessica Chastain              1977.0  37.0\n",
      "11           Anne Hathaway              1982.0  32.0\n",
      "12           David Oyelowo              1976.0  38.0\n",
      "13  Mark Casimir Dyniewicz                 NaN   NaN\n",
      "14            John Lithgow              1945.0  69.0\n",
      "15          Collette Wolfe                 NaN   NaN\n",
      "16     Matthew McConaughey              1969.0  45.0\n",
      "17            Andrew Borba                 NaN   NaN\n",
      "18            Lena Georgas                 NaN   NaN\n",
      "19           Mackenzie Foy              2000.0  14.0\n",
      "20             Leah Cairns              1974.0  40.0\n",
      "21             David Gyasi              1980.0  34.0\n",
      "22            Jeff Hephner              1975.0  39.0\n"
     ]
    }
   ],
   "source": [
    "# Conversion de la colonne \"Année de Naissance\" en type integer INT\n",
    "df_actors['Année de Naissance'] = pd.to_numeric(df_actors['Année de Naissance'], errors='coerce', downcast='integer')\n",
    "\n",
    "# Ajouter une colonne \"Age\" correspondant à l'âge en 2014\n",
    "df_actors['Age'] = df_actors['Année de Naissance'].apply(lambda x: 2014 - x if pd.notnull(x) else None)\n",
    "\n",
    "# Afficher le DataFrame\n",
    "print(df_actors)"
   ]
  },
  {
   "cell_type": "markdown",
   "metadata": {},
   "source": [
    "### Calcul de l'age moyen des acteurs"
   ]
  },
  {
   "cell_type": "code",
   "execution_count": 27,
   "metadata": {},
   "outputs": [
    {
     "name": "stdout",
     "output_type": "stream",
     "text": [
      "L'âge moyen des acteurs d'Interstellar lors de sa sortie en 2014 est : 44.06 ans\n"
     ]
    }
   ],
   "source": [
    "# Calculer l'âge moyen des acteurs\n",
    "age_moyen = df_actors['Age'].mean()\n",
    "\n",
    "# Afficher l'âge moyen\n",
    "print(f\"L'âge moyen des acteurs d'Interstellar lors de sa sortie en 2014 est : {age_moyen:.2f} ans\")\n"
   ]
  }
 ],
 "metadata": {
  "kernelspec": {
   "display_name": "base",
   "language": "python",
   "name": "python3"
  },
  "language_info": {
   "codemirror_mode": {
    "name": "ipython",
    "version": 3
   },
   "file_extension": ".py",
   "mimetype": "text/x-python",
   "name": "python",
   "nbconvert_exporter": "python",
   "pygments_lexer": "ipython3",
   "version": "3.12.4"
  }
 },
 "nbformat": 4,
 "nbformat_minor": 2
}
