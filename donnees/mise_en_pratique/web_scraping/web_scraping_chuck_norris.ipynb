{
 "cells": [
  {
   "cell_type": "markdown",
   "metadata": {},
   "source": [
    "# Projet de scraping : Chuck Norris Facts\n",
    "Dans ce notebook, nous allons scraper des blagues Chuck Norris depuis le site `http://www.chucknorrisfacts.fr`.\n",
    "\n",
    "## Étapes :\n",
    "1. Installation des bibliothèques nécessaires\n",
    "2. Envoi d'une requête HTTP et traitement de la réponse\n",
    "3. Analyse de la structure HTML pour identifier les blocs de blagues\n",
    "4. Extraction des blagues et des notes\n",
    "5. Création d'un DataFrame avec les résultats\n",
    "6. Conclusion"
   ]
  },
  {
   "cell_type": "markdown",
   "metadata": {},
   "source": [
    "## 1. Installation des bibliothèques nécessaires"
   ]
  },
  {
   "cell_type": "code",
   "execution_count": null,
   "metadata": {},
   "outputs": [],
   "source": [
    "# Installation des bibliothèques nécessaires :\n",
    "# - `requests` pour envoyer des requêtes HTTP\n",
    "# - `beautifulsoup4` pour scraper et analyser le contenu HTML\n",
    "# - `pandas` pour manipuler les données et créer le DataFrame final\n",
    "\n",
    "!pip install requests beautifulsoup4"
   ]
  },
  {
   "cell_type": "code",
   "execution_count": 3,
   "metadata": {},
   "outputs": [],
   "source": [
    "import pandas as pd\n",
    "import requests"
   ]
  },
  {
   "cell_type": "markdown",
   "metadata": {},
   "source": [
    "## 2. Envoi d'une requête HTTP et traitement de la réponse"
   ]
  },
  {
   "cell_type": "code",
   "execution_count": 4,
   "metadata": {},
   "outputs": [
    {
     "name": "stdout",
     "output_type": "stream",
     "text": [
      "Code Réponse : 200\n"
     ]
    }
   ],
   "source": [
    "# URL cible\n",
    "url = \"http://www.chucknorrisfacts.fr/facts/top/1\"\n",
    "\n",
    "# Envoi de la requête\n",
    "response = requests.get(url)\n",
    "\n",
    "# Vérification du code de réponse\n",
    "print(\"Code Réponse :\", response.status_code)"
   ]
  },
  {
   "cell_type": "markdown",
   "metadata": {},
   "source": [
    "Nous avons envoyé une requête GET à l'adresse indiquée pour récupérer le contenu de la page web.\n",
    "- Le code 200 signifie que tout s'est bien passé.\n",
    "- Un autre code (comme 403 ou 404) indique une erreur qu'il faudra contourner."
   ]
  },
  {
   "cell_type": "code",
   "execution_count": 5,
   "metadata": {},
   "outputs": [
    {
     "name": "stdout",
     "output_type": "stream",
     "text": [
      "Code Réponse après ajout de l'User-Agent : 200\n"
     ]
    }
   ],
   "source": [
    "# Simulation d'un navigateur avec un User-Agent\n",
    "headers = {\"User-Agent\": \"Mozilla/5.0 (Windows NT 10.0; Win64; x64) AppleWebKit/537.36 (KHTML, like Gecko) Chrome/91.0.4472.124 Safari/537.36\"}\n",
    "response = requests.get(url, headers=headers)\n",
    "\n",
    "print(\"Code Réponse après ajout de l'User-Agent :\", response.status_code)"
   ]
  },
  {
   "cell_type": "markdown",
   "metadata": {},
   "source": [
    "## 3. Analyse de la structure HTML pour identifier les blocs de blagues"
   ]
  },
  {
   "cell_type": "code",
   "execution_count": 6,
   "metadata": {},
   "outputs": [
    {
     "name": "stdout",
     "output_type": "stream",
     "text": [
      "<!DOCTYPE html>\n",
      "<html lang=\"en\">\n",
      " <head>\n",
      "  <meta charset=\"utf-8\"/>\n",
      "  <meta content=\"width=device-width, initial-scale=1\" name=\"viewport\"/>\n",
      "  <meta content=\"Chuck Norris Facts - Fr. Découvrez la légende Chuck Norris, entièrement en français.\" name=\"description\"/>\n",
      "  <title>\n",
      "   Chuck Norris Facts -fr\n",
      "  </title>\n",
      "  <!-- Bootstrap CSS -->\n",
      "  <link href=\"/static/css/bootstrap.min.css\" rel=\"stylesheet\"/>\n",
      "  <style>\n",
      "   .bd-placeholder-img {\n",
      "        font-size: 1.125rem;\n",
      "        text-anchor: middle;\n",
      "        -webkit-user-select: none;\n",
      "        -moz-user-select: none;\n",
      "        user-select: none;\n",
      "      }\n",
      "\n",
      "      @media (min-width: 768px) {\n",
      "        .bd-placeholder-img-lg {\n",
      "          font-size: 3.5rem;\n",
      "        }\n",
      "      }\n",
      "  </style>\n",
      "  <!-- Custom styles for this template -->\n",
      "  <link href=\"https://fonts.googleapis.com/css?family=Playfair+Display:700,900&amp;display=swap\" rel=\"stylesheet\"/>\n",
      "  <!-- Custom styles for this template -->\n",
      "  <link href=\"/static/css/blog.css\" rel=\"stylesheet\"/>\n",
      "  <link href=\"/static/c\n"
     ]
    }
   ],
   "source": [
    "from bs4 import BeautifulSoup\n",
    "\n",
    "# Analyse de la page avec BeautifulSoup\n",
    "soup = BeautifulSoup(response.content, 'html.parser')\n",
    "\n",
    "# Inspection rapide de la structure HTML\n",
    "print(soup.prettify()[:1000])  # Limite l'affichage aux 1000 premiers caractères"
   ]
  },
  {
   "cell_type": "markdown",
   "metadata": {},
   "source": [
    "## 4. Extraction des blagues et des notes"
   ]
  },
  {
   "cell_type": "markdown",
   "metadata": {},
   "source": [
    "- Nous utilisons `find_all` pour localiser toutes les balises `<li>` ayant la classe `fact`, qui contient chaque blague."
   ]
  },
  {
   "cell_type": "markdown",
   "metadata": {},
   "source": [
    "### Afficher la 8ème blague"
   ]
  },
  {
   "cell_type": "code",
   "execution_count": null,
   "metadata": {},
   "outputs": [
    {
     "name": "stdout",
     "output_type": "stream",
     "text": [
      "Nombre de blagues trouvées : 20\n"
     ]
    }
   ],
   "source": [
    "# Importation de la bibliothèque BeautifulSoup pour l'analyse HTML\n",
    "from bs4 import BeautifulSoup\n",
    "import requests  # Importation de la bibliothèque requests pour envoyer des requêtes HTTP\n",
    "\n",
    "# L'URL de la page contenant les Chuck Norris Facts\n",
    "url = \"http://www.chucknorrisfacts.fr/facts/top/1\"\n",
    "\n",
    "# Définition des headers pour simuler une requête venant d'un navigateur réel (évite la protection du site)\n",
    "headers = {\n",
    "    \"User-Agent\": \"Mozilla/5.0 (Windows NT 10.0; Win64; x64) AppleWebKit/537.36 (KHTML, like Gecko) Chrome/91.0.4472.124 Safari/537.36\"\n",
    "}\n",
    "\n",
    "# Envoi de la requête GET à l'URL spécifiée avec les headers définis\n",
    "response = requests.get(url, headers=headers)\n",
    "\n",
    "# Vérification que la requête a été réussie (code de réponse 200)\n",
    "if response.status_code == 200:\n",
    "    # Si la requête réussit, on crée un objet BeautifulSoup pour analyser le contenu HTML de la page\n",
    "    soup = BeautifulSoup(response.content, \"html.parser\")\n",
    "    \n",
    "    # Recherche de tous les éléments 'div' avec la classe 'card' (qui contiennent les blagues)\n",
    "    jokes_blocks = soup.find_all(\"div\", class_=\"card\")\n",
    "    \n",
    "    # Affichage du nombre de blagues trouvées dans la page\n",
    "    print(\"Nombre de blagues trouvées :\", len(jokes_blocks))\n",
    "else:\n",
    "    print(f\"Erreur {response.status_code}\")\n"
   ]
  },
  {
   "cell_type": "code",
   "execution_count": 21,
   "metadata": {},
   "outputs": [
    {
     "name": "stdout",
     "output_type": "stream",
     "text": [
      "Les samouraïs tuent des mouches avec leurs sabres...Chuck Norris, lui, tue des samouraïs avec des mouches\n",
      "\n",
      "\n",
      "\n",
      "\n",
      "#100410\n",
      "(8.32/10)\n",
      "\n",
      "\n",
      "\n",
      "[+]\n",
      "[++]\n",
      "[+++]\n"
     ]
    }
   ],
   "source": [
    "# Accéder à la 8ème blague\n",
    "blague8 = jokes_blocks[7]\n",
    "print(blague8.text.strip())"
   ]
  },
  {
   "cell_type": "code",
   "execution_count": 22,
   "metadata": {},
   "outputs": [
    {
     "name": "stdout",
     "output_type": "stream",
     "text": [
      "Les samouraïs tuent des mouches avec leurs sabres...Chuck Norris, lui, tue des samouraïs avec des mouches\n"
     ]
    }
   ],
   "source": [
    "# Trouver le texte de la blague, qui est probablement dans un élément <p> ou similaire à l'intérieur de la <div class=\"card\">\n",
    "blague_text = blague8.find(\"p\")  # Recherche de la balise <p> contenant le texte de la blague\n",
    "\n",
    "# Si la balise <p> existe, afficher le texte de la blague\n",
    "if blague_text:\n",
    "    print(blague_text.text.strip())  # .strip() pour enlever les espaces inutiles autour du texte\n",
    "else:\n",
    "    print(\"Blague non trouvée.\")\n"
   ]
  },
  {
   "cell_type": "markdown",
   "metadata": {},
   "source": [
    "### Afficher la note de la 8ème blague"
   ]
  },
  {
   "cell_type": "code",
   "execution_count": 25,
   "metadata": {},
   "outputs": [
    {
     "name": "stdout",
     "output_type": "stream",
     "text": [
      "(8.32/10)\n"
     ]
    }
   ],
   "source": [
    "# Trouver la note dans le <span> en utilisant un attribut id qui commence par \"moyenne_\"\n",
    "note = blague8.find(\"span\", id=True)  # Trouve le <span> avec un attribut id\n",
    "\n",
    "# Vérifier que l'élément span a un id qui contient \"moyenne\"\n",
    "if note and \"moyenne\" in note['id']:\n",
    "    print(note.text.strip())  # Afficher la note, en nettoyant les espaces inutiles avec .strip()\n",
    "else:\n",
    "    print(\"Note non trouvée.\")\n"
   ]
  },
  {
   "cell_type": "markdown",
   "metadata": {},
   "source": [
    "## 5. Création d'un DataFrame avec les résultats"
   ]
  },
  {
   "cell_type": "markdown",
   "metadata": {},
   "source": [
    "### Création du dictionnaire"
   ]
  },
  {
   "cell_type": "code",
   "execution_count": 26,
   "metadata": {},
   "outputs": [
    {
     "name": "stdout",
     "output_type": "stream",
     "text": [
      "{\"Les ennemis des amis de Chuck Norris sont ses amis. Et oui! Les ennemis de Chuck Norris n'existent plus.\": '(8.85/10)', \"Un jour Chuck Norris a eu un zero en latin, depuis c'est une langue morte.\": '(8.43/10)', \"L'avenir se demande parfois ce que Chuck Norris lui réserve.\": '(8.42/10)', 'Chuck Norris ne sait pas à quoi ressemble Nicolas Sarkozy,  en effet Chuck Norris ne baisse jamais les yeux.': '(8.41/10)', '': '(8.35/10)', \"Chuck Norris n'a pas de père. On ne nique pas la mère de Chuck Norris.\": '(8.34/10)', \"Chuck Norris ne ment pas, c'est la vérité qui se trompe.\": '(8.33/10)', 'Les samouraïs tuent des mouches avec leurs sabres...Chuck Norris, lui, tue des samouraïs avec des mouches': '(8.32/10)', \"Les ennemis de Chuck Norris lui disent souvent d'aller au diable. Le Diable aimerait bien qu'ils arrêtent.\": '(8.30/10)', \"Cherchez l'intrus : Un rouge-gorge, un pigeon, un moineau et Chuck Norris.Réponse : Un rouge-gorge, un pigeon et un moineau.\": '(8.30/10)', 'Chuck Norris peut ressusciter un angle mort.': '(8.30/10)', 'Chuck Norris est le seul homme à posséder une bible dédicacée.': '(8.29/10)', \"Chuck Norris n'est pas égal à lui-même, il est meilleur.\": '(8.29/10)', 'Un jour, les PowerRangers ont rencontré Chuck Norris. Maintenant on les appelle les Télétubbies.': '(8.29/10)', 'Quand Chuck Norris lance une pièce, elle fait toujours pile: personne ne fait face à Chuck Norris!': '(8.28/10)', 'Chuck Norris ne se masturbe jamais. Chuck Norris est inébranlable.': '(8.28/10)', 'Chuck Norris peut se souvenir du futur.': '(8.28/10)', 'Hercule est un demi-dieu, Dieu est un demi-Chuck Norris': '(8.27/10)', \"Un jour, Chuck Norris a courru si vite qu'il a failli se rentrer dedans.\": '(8.25/10)', \"Chuck Norris peut faire rentrer 3 litres d'eau dans une bouteille d'un litre. En tassant bien.\": '(8.25/10)'}\n"
     ]
    }
   ],
   "source": [
    "# Créer un dictionnaire vide pour stocker les blagues et les notes\n",
    "blagues_notes_dict = {}\n",
    "\n",
    "# Parcourir tous les blocs de blagues\n",
    "for blague in jokes_blocks:\n",
    "    # Extraire la blague (texte de la blague)\n",
    "    blague_text = blague.find(\"div\", class_=\"card-body\").text.strip()\n",
    "    \n",
    "    # Extraire la note (texte dans la balise <span> contenant \"moyenne_\")\n",
    "    note = blague.find(\"span\", id=True)  # Trouver la balise <span> avec un id\n",
    "    \n",
    "    # Vérifier que l'élément span a un id qui contient \"moyenne\"\n",
    "    if note and \"moyenne\" in note['id']:\n",
    "        note_text = note.text.strip()\n",
    "    else:\n",
    "        note_text = \"Note non trouvée\"\n",
    "    \n",
    "    # Ajouter la blague et la note au dictionnaire\n",
    "    blagues_notes_dict[blague_text] = note_text\n",
    "\n",
    "\n",
    "print(blagues_notes_dict)"
   ]
  },
  {
   "cell_type": "markdown",
   "metadata": {},
   "source": [
    "### Création du DataFrame"
   ]
  },
  {
   "cell_type": "code",
   "execution_count": 28,
   "metadata": {},
   "outputs": [
    {
     "name": "stdout",
     "output_type": "stream",
     "text": [
      "Nombre de lignes dans le DataFrame : 20\n"
     ]
    }
   ],
   "source": [
    "# Transformer le dictionnaire en DataFrame\n",
    "df = pd.DataFrame(list(blagues_notes_dict.items()), columns=[\"blague\", \"note\"])\n",
    "\n",
    "# Vérifier qu'il y a bien 20 lignes\n",
    "print(f\"Nombre de lignes dans le DataFrame : {len(df)}\")"
   ]
  },
  {
   "cell_type": "code",
   "execution_count": 29,
   "metadata": {},
   "outputs": [
    {
     "data": {
      "text/html": [
       "<div>\n",
       "<style scoped>\n",
       "    .dataframe tbody tr th:only-of-type {\n",
       "        vertical-align: middle;\n",
       "    }\n",
       "\n",
       "    .dataframe tbody tr th {\n",
       "        vertical-align: top;\n",
       "    }\n",
       "\n",
       "    .dataframe thead th {\n",
       "        text-align: right;\n",
       "    }\n",
       "</style>\n",
       "<table border=\"1\" class=\"dataframe\">\n",
       "  <thead>\n",
       "    <tr style=\"text-align: right;\">\n",
       "      <th></th>\n",
       "      <th>blague</th>\n",
       "      <th>note</th>\n",
       "    </tr>\n",
       "  </thead>\n",
       "  <tbody>\n",
       "    <tr>\n",
       "      <th>0</th>\n",
       "      <td>Les ennemis des amis de Chuck Norris sont ses ...</td>\n",
       "      <td>(8.85/10)</td>\n",
       "    </tr>\n",
       "    <tr>\n",
       "      <th>1</th>\n",
       "      <td>Un jour Chuck Norris a eu un zero en latin, de...</td>\n",
       "      <td>(8.43/10)</td>\n",
       "    </tr>\n",
       "    <tr>\n",
       "      <th>2</th>\n",
       "      <td>L'avenir se demande parfois ce que Chuck Norri...</td>\n",
       "      <td>(8.42/10)</td>\n",
       "    </tr>\n",
       "    <tr>\n",
       "      <th>3</th>\n",
       "      <td>Chuck Norris ne sait pas à quoi ressemble Nico...</td>\n",
       "      <td>(8.41/10)</td>\n",
       "    </tr>\n",
       "    <tr>\n",
       "      <th>4</th>\n",
       "      <td></td>\n",
       "      <td>(8.35/10)</td>\n",
       "    </tr>\n",
       "    <tr>\n",
       "      <th>5</th>\n",
       "      <td>Chuck Norris n'a pas de père. On ne nique pas ...</td>\n",
       "      <td>(8.34/10)</td>\n",
       "    </tr>\n",
       "    <tr>\n",
       "      <th>6</th>\n",
       "      <td>Chuck Norris ne ment pas, c'est la vérité qui ...</td>\n",
       "      <td>(8.33/10)</td>\n",
       "    </tr>\n",
       "    <tr>\n",
       "      <th>7</th>\n",
       "      <td>Les samouraïs tuent des mouches avec leurs sab...</td>\n",
       "      <td>(8.32/10)</td>\n",
       "    </tr>\n",
       "    <tr>\n",
       "      <th>8</th>\n",
       "      <td>Les ennemis de Chuck Norris lui disent souvent...</td>\n",
       "      <td>(8.30/10)</td>\n",
       "    </tr>\n",
       "    <tr>\n",
       "      <th>9</th>\n",
       "      <td>Cherchez l'intrus : Un rouge-gorge, un pigeon,...</td>\n",
       "      <td>(8.30/10)</td>\n",
       "    </tr>\n",
       "    <tr>\n",
       "      <th>10</th>\n",
       "      <td>Chuck Norris peut ressusciter un angle mort.</td>\n",
       "      <td>(8.30/10)</td>\n",
       "    </tr>\n",
       "    <tr>\n",
       "      <th>11</th>\n",
       "      <td>Chuck Norris est le seul homme à posséder une ...</td>\n",
       "      <td>(8.29/10)</td>\n",
       "    </tr>\n",
       "    <tr>\n",
       "      <th>12</th>\n",
       "      <td>Chuck Norris n'est pas égal à lui-même, il est...</td>\n",
       "      <td>(8.29/10)</td>\n",
       "    </tr>\n",
       "    <tr>\n",
       "      <th>13</th>\n",
       "      <td>Un jour, les PowerRangers ont rencontré Chuck ...</td>\n",
       "      <td>(8.29/10)</td>\n",
       "    </tr>\n",
       "    <tr>\n",
       "      <th>14</th>\n",
       "      <td>Quand Chuck Norris lance une pièce, elle fait ...</td>\n",
       "      <td>(8.28/10)</td>\n",
       "    </tr>\n",
       "    <tr>\n",
       "      <th>15</th>\n",
       "      <td>Chuck Norris ne se masturbe jamais. Chuck Norr...</td>\n",
       "      <td>(8.28/10)</td>\n",
       "    </tr>\n",
       "    <tr>\n",
       "      <th>16</th>\n",
       "      <td>Chuck Norris peut se souvenir du futur.</td>\n",
       "      <td>(8.28/10)</td>\n",
       "    </tr>\n",
       "    <tr>\n",
       "      <th>17</th>\n",
       "      <td>Hercule est un demi-dieu, Dieu est un demi-Chu...</td>\n",
       "      <td>(8.27/10)</td>\n",
       "    </tr>\n",
       "    <tr>\n",
       "      <th>18</th>\n",
       "      <td>Un jour, Chuck Norris a courru si vite qu'il a...</td>\n",
       "      <td>(8.25/10)</td>\n",
       "    </tr>\n",
       "    <tr>\n",
       "      <th>19</th>\n",
       "      <td>Chuck Norris peut faire rentrer 3 litres d'eau...</td>\n",
       "      <td>(8.25/10)</td>\n",
       "    </tr>\n",
       "  </tbody>\n",
       "</table>\n",
       "</div>"
      ],
      "text/plain": [
       "                                               blague       note\n",
       "0   Les ennemis des amis de Chuck Norris sont ses ...  (8.85/10)\n",
       "1   Un jour Chuck Norris a eu un zero en latin, de...  (8.43/10)\n",
       "2   L'avenir se demande parfois ce que Chuck Norri...  (8.42/10)\n",
       "3   Chuck Norris ne sait pas à quoi ressemble Nico...  (8.41/10)\n",
       "4                                                      (8.35/10)\n",
       "5   Chuck Norris n'a pas de père. On ne nique pas ...  (8.34/10)\n",
       "6   Chuck Norris ne ment pas, c'est la vérité qui ...  (8.33/10)\n",
       "7   Les samouraïs tuent des mouches avec leurs sab...  (8.32/10)\n",
       "8   Les ennemis de Chuck Norris lui disent souvent...  (8.30/10)\n",
       "9   Cherchez l'intrus : Un rouge-gorge, un pigeon,...  (8.30/10)\n",
       "10       Chuck Norris peut ressusciter un angle mort.  (8.30/10)\n",
       "11  Chuck Norris est le seul homme à posséder une ...  (8.29/10)\n",
       "12  Chuck Norris n'est pas égal à lui-même, il est...  (8.29/10)\n",
       "13  Un jour, les PowerRangers ont rencontré Chuck ...  (8.29/10)\n",
       "14  Quand Chuck Norris lance une pièce, elle fait ...  (8.28/10)\n",
       "15  Chuck Norris ne se masturbe jamais. Chuck Norr...  (8.28/10)\n",
       "16            Chuck Norris peut se souvenir du futur.  (8.28/10)\n",
       "17  Hercule est un demi-dieu, Dieu est un demi-Chu...  (8.27/10)\n",
       "18  Un jour, Chuck Norris a courru si vite qu'il a...  (8.25/10)\n",
       "19  Chuck Norris peut faire rentrer 3 litres d'eau...  (8.25/10)"
      ]
     },
     "execution_count": 29,
     "metadata": {},
     "output_type": "execute_result"
    }
   ],
   "source": [
    "df"
   ]
  }
 ],
 "metadata": {
  "kernelspec": {
   "display_name": "base",
   "language": "python",
   "name": "python3"
  },
  "language_info": {
   "codemirror_mode": {
    "name": "ipython",
    "version": 3
   },
   "file_extension": ".py",
   "mimetype": "text/x-python",
   "name": "python",
   "nbconvert_exporter": "python",
   "pygments_lexer": "ipython3",
   "version": "3.12.4"
  }
 },
 "nbformat": 4,
 "nbformat_minor": 2
}
