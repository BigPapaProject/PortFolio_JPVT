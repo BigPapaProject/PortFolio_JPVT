{
 "cells": [
  {
   "cell_type": "markdown",
   "metadata": {},
   "source": [
    "# Projet de scraping : Chuck Norris Facts\n",
    "Dans ce notebook, nous allons scraper des blagues Chuck Norris depuis le site `http://www.chucknorrisfacts.fr`.\n",
    "\n",
    "#### - Afficher les blagues et notes de la 1ère page\n",
    "1. Installation des bibliothèques nécessaires\n",
    "2. Envoi d'une requête HTTP et traitement de la réponse\n",
    "3. Analyse de la structure HTML pour identifier les blocs de blagues\n",
    "4. Extraction des blagues et des notes\n",
    "5. Création d'un DataFrame avec les résultats\n",
    "---\n",
    "#### - Afficher les blagues et notes des 5 premières pages, visualiser la distribution des notes\n",
    "1. Scraping des blagues et notes des 5 premières pages\n",
    "2. Création d'un DataFrame avec les résultats\n",
    "3. Visualisation distribution des Notes"
   ]
  },
  {
   "cell_type": "markdown",
   "metadata": {},
   "source": [
    "## Afficher les blagues et notes de la 1ère page"
   ]
  },
  {
   "cell_type": "markdown",
   "metadata": {},
   "source": [
    "### 1. Installation des bibliothèques nécessaires"
   ]
  },
  {
   "cell_type": "code",
   "execution_count": 1,
   "metadata": {},
   "outputs": [
    {
     "name": "stdout",
     "output_type": "stream",
     "text": [
      "Requirement already satisfied: requests in d:\\bigpapaproject\\anaconda\\lib\\site-packages (2.32.2)\n",
      "Requirement already satisfied: beautifulsoup4 in d:\\bigpapaproject\\anaconda\\lib\\site-packages (4.12.3)\n",
      "Requirement already satisfied: charset-normalizer<4,>=2 in d:\\bigpapaproject\\anaconda\\lib\\site-packages (from requests) (2.0.4)\n",
      "Requirement already satisfied: idna<4,>=2.5 in d:\\bigpapaproject\\anaconda\\lib\\site-packages (from requests) (3.7)\n",
      "Requirement already satisfied: urllib3<3,>=1.21.1 in d:\\bigpapaproject\\anaconda\\lib\\site-packages (from requests) (2.2.2)\n",
      "Requirement already satisfied: certifi>=2017.4.17 in d:\\bigpapaproject\\anaconda\\lib\\site-packages (from requests) (2024.8.30)\n",
      "Requirement already satisfied: soupsieve>1.2 in d:\\bigpapaproject\\anaconda\\lib\\site-packages (from beautifulsoup4) (2.5)\n"
     ]
    }
   ],
   "source": [
    "# Installation des bibliothèques nécessaires :\n",
    "# - `requests` pour envoyer des requêtes HTTP\n",
    "# - `beautifulsoup4` pour scraper et analyser le contenu HTML\n",
    "# - `pandas` pour manipuler les données et créer le DataFrame final\n",
    "\n",
    "!pip install requests beautifulsoup4"
   ]
  },
  {
   "cell_type": "code",
   "execution_count": 2,
   "metadata": {},
   "outputs": [],
   "source": [
    "import pandas as pd\n",
    "import requests"
   ]
  },
  {
   "cell_type": "markdown",
   "metadata": {},
   "source": [
    "### 2. Envoi d'une requête HTTP et traitement de la réponse"
   ]
  },
  {
   "cell_type": "code",
   "execution_count": 3,
   "metadata": {},
   "outputs": [
    {
     "name": "stdout",
     "output_type": "stream",
     "text": [
      "Code Réponse : 200\n"
     ]
    }
   ],
   "source": [
    "# URL cible\n",
    "url = \"http://www.chucknorrisfacts.fr/facts/top/1\"\n",
    "\n",
    "# Envoi de la requête\n",
    "response = requests.get(url)\n",
    "\n",
    "# Vérification du code de réponse\n",
    "print(\"Code Réponse :\", response.status_code)"
   ]
  },
  {
   "cell_type": "markdown",
   "metadata": {},
   "source": [
    "Nous avons envoyé une requête GET à l'adresse indiquée pour récupérer le contenu de la page web.\n",
    "- Le code 200 signifie que tout s'est bien passé.\n",
    "- Un autre code (comme 403 ou 404) indique une erreur qu'il faudra contourner."
   ]
  },
  {
   "cell_type": "code",
   "execution_count": 4,
   "metadata": {},
   "outputs": [
    {
     "name": "stdout",
     "output_type": "stream",
     "text": [
      "Code Réponse après ajout de l'User-Agent : 200\n"
     ]
    }
   ],
   "source": [
    "# Simulation d'un navigateur avec un User-Agent\n",
    "headers = {\"User-Agent\": \"Mozilla/5.0 (Windows NT 10.0; Win64; x64) AppleWebKit/537.36 (KHTML, like Gecko) Chrome/91.0.4472.124 Safari/537.36\"}\n",
    "response = requests.get(url, headers=headers)\n",
    "\n",
    "print(\"Code Réponse après ajout de l'User-Agent :\", response.status_code)"
   ]
  },
  {
   "cell_type": "markdown",
   "metadata": {},
   "source": [
    "### 3. Analyse de la structure HTML pour identifier les blocs de blagues"
   ]
  },
  {
   "cell_type": "code",
   "execution_count": 5,
   "metadata": {},
   "outputs": [
    {
     "name": "stdout",
     "output_type": "stream",
     "text": [
      "<!DOCTYPE html>\n",
      "<html lang=\"en\">\n",
      " <head>\n",
      "  <meta charset=\"utf-8\"/>\n",
      "  <meta content=\"width=device-width, initial-scale=1\" name=\"viewport\"/>\n",
      "  <meta content=\"Chuck Norris Facts - Fr. Découvrez la légende Chuck Norris, entièrement en français.\" name=\"description\"/>\n",
      "  <title>\n",
      "   Chuck Norris Facts -fr\n",
      "  </title>\n",
      "  <!-- Bootstrap CSS -->\n",
      "  <link href=\"/static/css/bootstrap.min.css\" rel=\"stylesheet\"/>\n",
      "  <style>\n",
      "   .bd-placeholder-img {\n",
      "        font-size: 1.125rem;\n",
      "        text-anchor: middle;\n",
      "        -webkit-user-select: none;\n",
      "        -moz-user-select: none;\n",
      "        user-select: none;\n",
      "      }\n",
      "\n",
      "      @media (min-width: 768px) {\n",
      "        .bd-placeholder-img-lg {\n",
      "          font-size: 3.5rem;\n",
      "        }\n",
      "      }\n",
      "  </style>\n",
      "  <!-- Custom styles for this template -->\n",
      "  <link href=\"https://fonts.googleapis.com/css?family=Playfair+Display:700,900&amp;display=swap\" rel=\"stylesheet\"/>\n",
      "  <!-- Custom styles for this template -->\n",
      "  <link href=\"/static/css/blog.css\" rel=\"stylesheet\"/>\n",
      "  <link href=\"/static/c\n"
     ]
    }
   ],
   "source": [
    "from bs4 import BeautifulSoup\n",
    "\n",
    "# Analyse de la page avec BeautifulSoup\n",
    "soup = BeautifulSoup(response.content, 'html.parser')\n",
    "\n",
    "# Inspection rapide de la structure HTML\n",
    "print(soup.prettify()[:1000])  # Limite l'affichage aux 1000 premiers caractères"
   ]
  },
  {
   "cell_type": "markdown",
   "metadata": {},
   "source": [
    "### 4. Extraction des blagues et des notes"
   ]
  },
  {
   "cell_type": "markdown",
   "metadata": {},
   "source": [
    "- Nous utilisons `find_all` pour localiser toutes les balises `<li>` ayant la classe `fact`, qui contient chaque blague."
   ]
  },
  {
   "cell_type": "markdown",
   "metadata": {},
   "source": [
    "#### Afficher la 8ème blague"
   ]
  },
  {
   "cell_type": "code",
   "execution_count": 6,
   "metadata": {},
   "outputs": [
    {
     "name": "stdout",
     "output_type": "stream",
     "text": [
      "Nombre de blagues trouvées : 20\n"
     ]
    }
   ],
   "source": [
    "# Importation de la bibliothèque BeautifulSoup pour l'analyse HTML\n",
    "from bs4 import BeautifulSoup\n",
    "import requests  # Importation de la bibliothèque requests pour envoyer des requêtes HTTP\n",
    "\n",
    "# L'URL de la page contenant les Chuck Norris Facts\n",
    "url = \"http://www.chucknorrisfacts.fr/facts/top/1\"\n",
    "\n",
    "# Définition des headers pour simuler une requête venant d'un navigateur réel (évite la protection du site)\n",
    "headers = {\n",
    "    \"User-Agent\": \"Mozilla/5.0 (Windows NT 10.0; Win64; x64) AppleWebKit/537.36 (KHTML, like Gecko) Chrome/91.0.4472.124 Safari/537.36\"\n",
    "}\n",
    "\n",
    "# Envoi de la requête GET à l'URL spécifiée avec les headers définis\n",
    "response = requests.get(url, headers=headers)\n",
    "\n",
    "# Vérification que la requête a été réussie (code de réponse 200)\n",
    "if response.status_code == 200:\n",
    "    # Si la requête réussit, on crée un objet BeautifulSoup pour analyser le contenu HTML de la page\n",
    "    soup = BeautifulSoup(response.content, \"html.parser\")\n",
    "    \n",
    "    # Recherche de tous les éléments 'div' avec la classe 'card' (qui contiennent les blagues)\n",
    "    jokes_blocks = soup.find_all(\"div\", class_=\"card\")\n",
    "    \n",
    "    # Affichage du nombre de blagues trouvées dans la page\n",
    "    print(\"Nombre de blagues trouvées :\", len(jokes_blocks))\n",
    "else:\n",
    "    print(f\"Erreur {response.status_code}\")\n"
   ]
  },
  {
   "cell_type": "code",
   "execution_count": 7,
   "metadata": {},
   "outputs": [
    {
     "name": "stdout",
     "output_type": "stream",
     "text": [
      "Les samouraïs tuent des mouches avec leurs sabres...Chuck Norris, lui, tue des samouraïs avec des mouches\n",
      "\n",
      "\n",
      "\n",
      "\n",
      "#100410\n",
      "(8.32/10)\n",
      "\n",
      "\n",
      "\n",
      "[+]\n",
      "[++]\n",
      "[+++]\n"
     ]
    }
   ],
   "source": [
    "# Accéder à la 8ème blague\n",
    "blague8 = jokes_blocks[7]\n",
    "print(blague8.text.strip())"
   ]
  },
  {
   "cell_type": "code",
   "execution_count": 8,
   "metadata": {},
   "outputs": [
    {
     "name": "stdout",
     "output_type": "stream",
     "text": [
      "Les samouraïs tuent des mouches avec leurs sabres...Chuck Norris, lui, tue des samouraïs avec des mouches\n"
     ]
    }
   ],
   "source": [
    "# Trouver le texte de la blague, qui est probablement dans un élément <p> ou similaire à l'intérieur de la <div class=\"card\">\n",
    "blague_text = blague8.find(\"p\")  # Recherche de la balise <p> contenant le texte de la blague\n",
    "\n",
    "# Si la balise <p> existe, afficher le texte de la blague\n",
    "if blague_text:\n",
    "    print(blague_text.text.strip())  # .strip() pour enlever les espaces inutiles autour du texte\n",
    "else:\n",
    "    print(\"Blague non trouvée.\")\n"
   ]
  },
  {
   "cell_type": "markdown",
   "metadata": {},
   "source": [
    "#### Afficher la note de la 8ème blague"
   ]
  },
  {
   "cell_type": "code",
   "execution_count": 9,
   "metadata": {},
   "outputs": [
    {
     "name": "stdout",
     "output_type": "stream",
     "text": [
      "(8.32/10)\n"
     ]
    }
   ],
   "source": [
    "# Trouver la note dans le <span> en utilisant un attribut id qui commence par \"moyenne_\"\n",
    "note = blague8.find(\"span\", id=True)  # Trouve le <span> avec un attribut id\n",
    "\n",
    "# Vérifier que l'élément span a un id qui contient \"moyenne\"\n",
    "if note and \"moyenne\" in note['id']:\n",
    "    print(note.text.strip())  # Afficher la note, en nettoyant les espaces inutiles avec .strip()\n",
    "else:\n",
    "    print(\"Note non trouvée.\")\n"
   ]
  },
  {
   "cell_type": "markdown",
   "metadata": {},
   "source": [
    "### 5. Création d'un DataFrame avec les résultats"
   ]
  },
  {
   "cell_type": "markdown",
   "metadata": {},
   "source": [
    "#### Création du dictionnaire"
   ]
  },
  {
   "cell_type": "code",
   "execution_count": 10,
   "metadata": {},
   "outputs": [
    {
     "name": "stdout",
     "output_type": "stream",
     "text": [
      "{\"Les ennemis des amis de Chuck Norris sont ses amis. Et oui! Les ennemis de Chuck Norris n'existent plus.\": '(8.85/10)', \"Un jour Chuck Norris a eu un zero en latin, depuis c'est une langue morte.\": '(8.43/10)', \"L'avenir se demande parfois ce que Chuck Norris lui réserve.\": '(8.42/10)', 'Chuck Norris ne sait pas à quoi ressemble Nicolas Sarkozy,  en effet Chuck Norris ne baisse jamais les yeux.': '(8.41/10)', '': '(8.35/10)', \"Chuck Norris n'a pas de père. On ne nique pas la mère de Chuck Norris.\": '(8.34/10)', \"Chuck Norris ne ment pas, c'est la vérité qui se trompe.\": '(8.33/10)', 'Les samouraïs tuent des mouches avec leurs sabres...Chuck Norris, lui, tue des samouraïs avec des mouches': '(8.32/10)', \"Les ennemis de Chuck Norris lui disent souvent d'aller au diable. Le Diable aimerait bien qu'ils arrêtent.\": '(8.30/10)', \"Cherchez l'intrus : Un rouge-gorge, un pigeon, un moineau et Chuck Norris.Réponse : Un rouge-gorge, un pigeon et un moineau.\": '(8.30/10)', 'Chuck Norris peut ressusciter un angle mort.': '(8.30/10)', 'Chuck Norris est le seul homme à posséder une bible dédicacée.': '(8.29/10)', \"Chuck Norris n'est pas égal à lui-même, il est meilleur.\": '(8.29/10)', 'Un jour, les PowerRangers ont rencontré Chuck Norris. Maintenant on les appelle les Télétubbies.': '(8.29/10)', 'Quand Chuck Norris lance une pièce, elle fait toujours pile: personne ne fait face à Chuck Norris!': '(8.28/10)', 'Chuck Norris ne se masturbe jamais. Chuck Norris est inébranlable.': '(8.28/10)', 'Chuck Norris peut se souvenir du futur.': '(8.28/10)', 'Hercule est un demi-dieu, Dieu est un demi-Chuck Norris': '(8.27/10)', \"Un jour, Chuck Norris a courru si vite qu'il a failli se rentrer dedans.\": '(8.25/10)', \"Chuck Norris peut faire rentrer 3 litres d'eau dans une bouteille d'un litre. En tassant bien.\": '(8.25/10)'}\n"
     ]
    }
   ],
   "source": [
    "# Créer un dictionnaire vide pour stocker les blagues et les notes\n",
    "blagues_notes_dict = {}\n",
    "\n",
    "# Parcourir tous les blocs de blagues\n",
    "for blague in jokes_blocks:\n",
    "    # Extraire la blague (texte de la blague)\n",
    "    blague_text = blague.find(\"div\", class_=\"card-body\").text.strip()\n",
    "    \n",
    "    # Extraire la note (texte dans la balise <span> contenant \"moyenne_\")\n",
    "    note = blague.find(\"span\", id=True)  # Trouver la balise <span> avec un id\n",
    "    \n",
    "    # Vérifier que l'élément span a un id qui contient \"moyenne\"\n",
    "    if note and \"moyenne\" in note['id']:\n",
    "        note_text = note.text.strip()\n",
    "    else:\n",
    "        note_text = \"Note non trouvée\"\n",
    "    \n",
    "    # Ajouter la blague et la note au dictionnaire\n",
    "    blagues_notes_dict[blague_text] = note_text\n",
    "\n",
    "\n",
    "print(blagues_notes_dict)"
   ]
  },
  {
   "cell_type": "markdown",
   "metadata": {},
   "source": [
    "#### Création du DataFrame"
   ]
  },
  {
   "cell_type": "code",
   "execution_count": 11,
   "metadata": {},
   "outputs": [
    {
     "name": "stdout",
     "output_type": "stream",
     "text": [
      "Nombre de lignes dans le DataFrame : 20\n"
     ]
    }
   ],
   "source": [
    "# Transformer le dictionnaire en DataFrame\n",
    "df = pd.DataFrame(list(blagues_notes_dict.items()), columns=[\"blague\", \"note\"])\n",
    "\n",
    "# Vérifier qu'il y a bien 20 lignes\n",
    "print(f\"Nombre de lignes dans le DataFrame : {len(df)}\")"
   ]
  },
  {
   "cell_type": "code",
   "execution_count": 12,
   "metadata": {},
   "outputs": [
    {
     "data": {
      "text/html": [
       "<div>\n",
       "<style scoped>\n",
       "    .dataframe tbody tr th:only-of-type {\n",
       "        vertical-align: middle;\n",
       "    }\n",
       "\n",
       "    .dataframe tbody tr th {\n",
       "        vertical-align: top;\n",
       "    }\n",
       "\n",
       "    .dataframe thead th {\n",
       "        text-align: right;\n",
       "    }\n",
       "</style>\n",
       "<table border=\"1\" class=\"dataframe\">\n",
       "  <thead>\n",
       "    <tr style=\"text-align: right;\">\n",
       "      <th></th>\n",
       "      <th>blague</th>\n",
       "      <th>note</th>\n",
       "    </tr>\n",
       "  </thead>\n",
       "  <tbody>\n",
       "    <tr>\n",
       "      <th>0</th>\n",
       "      <td>Les ennemis des amis de Chuck Norris sont ses ...</td>\n",
       "      <td>(8.85/10)</td>\n",
       "    </tr>\n",
       "    <tr>\n",
       "      <th>1</th>\n",
       "      <td>Un jour Chuck Norris a eu un zero en latin, de...</td>\n",
       "      <td>(8.43/10)</td>\n",
       "    </tr>\n",
       "    <tr>\n",
       "      <th>2</th>\n",
       "      <td>L'avenir se demande parfois ce que Chuck Norri...</td>\n",
       "      <td>(8.42/10)</td>\n",
       "    </tr>\n",
       "    <tr>\n",
       "      <th>3</th>\n",
       "      <td>Chuck Norris ne sait pas à quoi ressemble Nico...</td>\n",
       "      <td>(8.41/10)</td>\n",
       "    </tr>\n",
       "    <tr>\n",
       "      <th>4</th>\n",
       "      <td></td>\n",
       "      <td>(8.35/10)</td>\n",
       "    </tr>\n",
       "    <tr>\n",
       "      <th>5</th>\n",
       "      <td>Chuck Norris n'a pas de père. On ne nique pas ...</td>\n",
       "      <td>(8.34/10)</td>\n",
       "    </tr>\n",
       "    <tr>\n",
       "      <th>6</th>\n",
       "      <td>Chuck Norris ne ment pas, c'est la vérité qui ...</td>\n",
       "      <td>(8.33/10)</td>\n",
       "    </tr>\n",
       "    <tr>\n",
       "      <th>7</th>\n",
       "      <td>Les samouraïs tuent des mouches avec leurs sab...</td>\n",
       "      <td>(8.32/10)</td>\n",
       "    </tr>\n",
       "    <tr>\n",
       "      <th>8</th>\n",
       "      <td>Les ennemis de Chuck Norris lui disent souvent...</td>\n",
       "      <td>(8.30/10)</td>\n",
       "    </tr>\n",
       "    <tr>\n",
       "      <th>9</th>\n",
       "      <td>Cherchez l'intrus : Un rouge-gorge, un pigeon,...</td>\n",
       "      <td>(8.30/10)</td>\n",
       "    </tr>\n",
       "    <tr>\n",
       "      <th>10</th>\n",
       "      <td>Chuck Norris peut ressusciter un angle mort.</td>\n",
       "      <td>(8.30/10)</td>\n",
       "    </tr>\n",
       "    <tr>\n",
       "      <th>11</th>\n",
       "      <td>Chuck Norris est le seul homme à posséder une ...</td>\n",
       "      <td>(8.29/10)</td>\n",
       "    </tr>\n",
       "    <tr>\n",
       "      <th>12</th>\n",
       "      <td>Chuck Norris n'est pas égal à lui-même, il est...</td>\n",
       "      <td>(8.29/10)</td>\n",
       "    </tr>\n",
       "    <tr>\n",
       "      <th>13</th>\n",
       "      <td>Un jour, les PowerRangers ont rencontré Chuck ...</td>\n",
       "      <td>(8.29/10)</td>\n",
       "    </tr>\n",
       "    <tr>\n",
       "      <th>14</th>\n",
       "      <td>Quand Chuck Norris lance une pièce, elle fait ...</td>\n",
       "      <td>(8.28/10)</td>\n",
       "    </tr>\n",
       "    <tr>\n",
       "      <th>15</th>\n",
       "      <td>Chuck Norris ne se masturbe jamais. Chuck Norr...</td>\n",
       "      <td>(8.28/10)</td>\n",
       "    </tr>\n",
       "    <tr>\n",
       "      <th>16</th>\n",
       "      <td>Chuck Norris peut se souvenir du futur.</td>\n",
       "      <td>(8.28/10)</td>\n",
       "    </tr>\n",
       "    <tr>\n",
       "      <th>17</th>\n",
       "      <td>Hercule est un demi-dieu, Dieu est un demi-Chu...</td>\n",
       "      <td>(8.27/10)</td>\n",
       "    </tr>\n",
       "    <tr>\n",
       "      <th>18</th>\n",
       "      <td>Un jour, Chuck Norris a courru si vite qu'il a...</td>\n",
       "      <td>(8.25/10)</td>\n",
       "    </tr>\n",
       "    <tr>\n",
       "      <th>19</th>\n",
       "      <td>Chuck Norris peut faire rentrer 3 litres d'eau...</td>\n",
       "      <td>(8.25/10)</td>\n",
       "    </tr>\n",
       "  </tbody>\n",
       "</table>\n",
       "</div>"
      ],
      "text/plain": [
       "                                               blague       note\n",
       "0   Les ennemis des amis de Chuck Norris sont ses ...  (8.85/10)\n",
       "1   Un jour Chuck Norris a eu un zero en latin, de...  (8.43/10)\n",
       "2   L'avenir se demande parfois ce que Chuck Norri...  (8.42/10)\n",
       "3   Chuck Norris ne sait pas à quoi ressemble Nico...  (8.41/10)\n",
       "4                                                      (8.35/10)\n",
       "5   Chuck Norris n'a pas de père. On ne nique pas ...  (8.34/10)\n",
       "6   Chuck Norris ne ment pas, c'est la vérité qui ...  (8.33/10)\n",
       "7   Les samouraïs tuent des mouches avec leurs sab...  (8.32/10)\n",
       "8   Les ennemis de Chuck Norris lui disent souvent...  (8.30/10)\n",
       "9   Cherchez l'intrus : Un rouge-gorge, un pigeon,...  (8.30/10)\n",
       "10       Chuck Norris peut ressusciter un angle mort.  (8.30/10)\n",
       "11  Chuck Norris est le seul homme à posséder une ...  (8.29/10)\n",
       "12  Chuck Norris n'est pas égal à lui-même, il est...  (8.29/10)\n",
       "13  Un jour, les PowerRangers ont rencontré Chuck ...  (8.29/10)\n",
       "14  Quand Chuck Norris lance une pièce, elle fait ...  (8.28/10)\n",
       "15  Chuck Norris ne se masturbe jamais. Chuck Norr...  (8.28/10)\n",
       "16            Chuck Norris peut se souvenir du futur.  (8.28/10)\n",
       "17  Hercule est un demi-dieu, Dieu est un demi-Chu...  (8.27/10)\n",
       "18  Un jour, Chuck Norris a courru si vite qu'il a...  (8.25/10)\n",
       "19  Chuck Norris peut faire rentrer 3 litres d'eau...  (8.25/10)"
      ]
     },
     "execution_count": 12,
     "metadata": {},
     "output_type": "execute_result"
    }
   ],
   "source": [
    "df"
   ]
  },
  {
   "cell_type": "markdown",
   "metadata": {},
   "source": [
    "## Afficher les blagues et notes des 5 premières pages, visualiser la distribution des notes"
   ]
  },
  {
   "cell_type": "markdown",
   "metadata": {},
   "source": [
    "### 1. Scraping des blagues et notes des 5 premières pages"
   ]
  },
  {
   "cell_type": "code",
   "execution_count": 13,
   "metadata": {},
   "outputs": [
    {
     "name": "stdout",
     "output_type": "stream",
     "text": [
      "Nombre total de blagues récupérées : 100\n"
     ]
    }
   ],
   "source": [
    "from bs4 import BeautifulSoup\n",
    "import requests\n",
    "\n",
    "# URL de base pour générer les pages\n",
    "base_url = \"http://www.chucknorrisfacts.fr/facts/top/\"\n",
    "\n",
    "# Créer un dictionnaire vide pour stocker les blagues et les notes\n",
    "blagues_notes_dict = {}\n",
    "\n",
    "# Générer les URLs des 5 premières pages et scraper les données\n",
    "for page_num in range(1, 6):  # Pages 1 à 5\n",
    "    url = f\"{base_url}{page_num}\"\n",
    "\n",
    "    # Définir les headers pour simuler une requête venant d'un navigateur réel\n",
    "    headers = {\n",
    "        \"User-Agent\": \"Mozilla/5.0 (Windows NT 10.0; Win64; x64) AppleWebKit/537.36 (KHTML, like Gecko) Chrome/91.0.4472.124 Safari/537.36\"\n",
    "    }\n",
    "\n",
    "    # Envoyer la requête GET pour récupérer le contenu de la page\n",
    "    response = requests.get(url, headers=headers)\n",
    "\n",
    "    # Vérifier que la requête a été réussie\n",
    "    if response.status_code == 200:\n",
    "        # Créer un objet BeautifulSoup pour analyser le contenu HTML\n",
    "        soup = BeautifulSoup(response.content, \"html.parser\")\n",
    "        \n",
    "        # Trouver tous les blocs contenant les blagues\n",
    "        jokes_blocks = soup.find_all(\"div\", class_=\"card\")\n",
    "        \n",
    "        # Parcourir tous les blocs de blagues pour extraire les données\n",
    "        for blague in jokes_blocks:\n",
    "            # Extraire le texte de la blague\n",
    "            blague_text = blague.find(\"div\", class_=\"card-body\").text.strip()\n",
    "            \n",
    "            # Extraire la note dans le span avec un id contenant \"moyenne\"\n",
    "            note = blague.find(\"span\", id=True)\n",
    "            \n",
    "            # Vérifier que la balise span contient l'id \"moyenne\"\n",
    "            if note and \"moyenne\" in note['id']:\n",
    "                note_text = note.text.strip()\n",
    "            else:\n",
    "                note_text = \"Note non trouvée\"\n",
    "            \n",
    "            # Ajouter la blague et la note au dictionnaire\n",
    "            blagues_notes_dict[blague_text] = note_text\n",
    "    else:\n",
    "        print(f\"Erreur {response.status_code} pour la page {page_num}\")\n",
    "\n",
    "# Vérifier que les données sont bien récupérées\n",
    "print(f\"Nombre total de blagues récupérées : {len(blagues_notes_dict)}\")\n"
   ]
  },
  {
   "cell_type": "code",
   "execution_count": 14,
   "metadata": {},
   "outputs": [
    {
     "data": {
      "text/plain": [
       "{\"Les ennemis des amis de Chuck Norris sont ses amis. Et oui! Les ennemis de Chuck Norris n'existent plus.\": '(8.85/10)',\n",
       " \"Un jour Chuck Norris a eu un zero en latin, depuis c'est une langue morte.\": '(8.43/10)',\n",
       " \"L'avenir se demande parfois ce que Chuck Norris lui réserve.\": '(8.42/10)',\n",
       " 'Chuck Norris ne sait pas à quoi ressemble Nicolas Sarkozy,  en effet Chuck Norris ne baisse jamais les yeux.': '(8.41/10)',\n",
       " '': '(8.35/10)',\n",
       " \"Chuck Norris n'a pas de père. On ne nique pas la mère de Chuck Norris.\": '(8.34/10)',\n",
       " \"Chuck Norris ne ment pas, c'est la vérité qui se trompe.\": '(8.33/10)',\n",
       " 'Les samouraïs tuent des mouches avec leurs sabres...Chuck Norris, lui, tue des samouraïs avec des mouches': '(8.32/10)',\n",
       " \"Les ennemis de Chuck Norris lui disent souvent d'aller au diable. Le Diable aimerait bien qu'ils arrêtent.\": '(8.30/10)',\n",
       " \"Cherchez l'intrus : Un rouge-gorge, un pigeon, un moineau et Chuck Norris.Réponse : Un rouge-gorge, un pigeon et un moineau.\": '(8.30/10)',\n",
       " 'Chuck Norris peut ressusciter un angle mort.': '(8.30/10)',\n",
       " 'Chuck Norris est le seul homme à posséder une bible dédicacée.': '(8.29/10)',\n",
       " \"Chuck Norris n'est pas égal à lui-même, il est meilleur.\": '(8.29/10)',\n",
       " 'Un jour, les PowerRangers ont rencontré Chuck Norris. Maintenant on les appelle les Télétubbies.': '(8.29/10)',\n",
       " 'Quand Chuck Norris lance une pièce, elle fait toujours pile: personne ne fait face à Chuck Norris!': '(8.28/10)',\n",
       " 'Chuck Norris ne se masturbe jamais. Chuck Norris est inébranlable.': '(8.28/10)',\n",
       " 'Chuck Norris peut se souvenir du futur.': '(8.28/10)',\n",
       " 'Hercule est un demi-dieu, Dieu est un demi-Chuck Norris': '(8.27/10)',\n",
       " \"Un jour, Chuck Norris a courru si vite qu'il a failli se rentrer dedans.\": '(8.25/10)',\n",
       " \"Chuck Norris peut faire rentrer 3 litres d'eau dans une bouteille d'un litre. En tassant bien.\": '(8.25/10)',\n",
       " 'Moïse a coupé la mer en deux. Chuck Norris l\\'a recollé en disant \"tu refais ça, je te pète la gueule\".': '(8.25/10)',\n",
       " \"Un jour, un gaulois a cru qu'il pouvait attaquer Chuck Norris après avoir bu de la potion magiqueIl s'appelait Paraplégix\": '(8.25/10)',\n",
       " \"Chuck Norris a déjà compté jusqu'à l'infini. Deux fois.\": '(8.25/10)',\n",
       " 'Chuck Norris a gagné un tournoi de poker avec des cartes pokémon': '(8.25/10)',\n",
       " 'Certains disent : \"La violence ne résout rien\"Chuck Norris leur répond \"C\\'est que t\\'as pas tapé assez fort\"': '(8.24/10)',\n",
       " 'Quand Chuck Norris viole la loi, elle en redemande.': '(8.24/10)',\n",
       " 'Un jour un mec a refuser de filer une clope à Chuck Norris. Depuis, on prévient sur tous les paquets que \"Fumer tue\".': '(8.24/10)',\n",
       " \"Chuck Norris a déja frôlé la mort....elle ne s'en est jamais remise.\": '(8.23/10)',\n",
       " 'Chuck Norris a retrouvé Ornicar.': '(8.23/10)',\n",
       " \"Chuck Norris a déjà eu Alzheimer. Il s'en souvient très bien.\": '(8.23/10)',\n",
       " 'Chuck Norris a planté son ordinateur. Et il a fleuri.': '(8.23/10)',\n",
       " 'Chuck Norris peut y aller par 4 chemins': '(8.23/10)',\n",
       " 'Si Chuck Norris avait joué dans \"il faut sauver le soldat Ryan\", le film se serait appelé \"il faut sauver l\\'armée allemande\".': '(8.23/10)',\n",
       " 'Chuck Norris joue au cerf-volant avec de vrais cerfs.': '(8.23/10)',\n",
       " 'Selon certaines sources, il y aurait un spermatozoïde de Chuck Norris dans un lac écossais...': '(8.23/10)',\n",
       " \"Le fusil a pompe de Chuck Norris est en prison pour port d'arme illégal.\": '(8.23/10)',\n",
       " \"Un jour Chuck Norris a lu le dictionnaire. Il a compris l'histoire.\": '(8.23/10)',\n",
       " \"Il n'y avait pas 12 mais 13 travaux d'Hercule. Le 13ème étant de mettre une baffe à Chuck Norris. Depuis, le 13 porte malheur.\": '(8.23/10)',\n",
       " 'Chuck Norris a fait loucher un cyclope.': '(8.22/10)',\n",
       " \"Chuck Norris a déjà bu toute l'eau du robinet.\": '(8.22/10)',\n",
       " \"Chuck Norris peut te prouver que la condamnation à mort n'est pas la peine maximale.\": '(8.22/10)',\n",
       " 'Il y a bien longtemps Chuck Norris et Dieu se sont battus. Vous avez vu Dieu récemment ?': '(8.22/10)',\n",
       " \"Une seule Tortue Ninja à osé défié Chuck Norris. Maintenant on l'appelle Franklin.\": '(8.22/10)',\n",
       " \"Même l'évidence se rend à Chuck Norris.\": '(8.22/10)',\n",
       " 'Chuck Norris a invité Albert Einstein à son dîner de cons.': '(8.22/10)',\n",
       " \"Chuck Norris connait la dernière décimale de Pi, et celle d'après aussi.\": '(8.22/10)',\n",
       " \"Chuck Norris n'a pas reçu son diplôme du bac. Les correcteurs comptent encore les points.\": '(8.22/10)',\n",
       " 'Contrairement à ce que croient ceux qui se lèvent tôt, le monde appartient à Chuck Norris.': '(8.22/10)',\n",
       " 'Chuck Norris a déjà battu la montre dans une course contre la montre.': '(8.22/10)',\n",
       " 'Chuck Norris a une vision très nette du flou.': '(8.22/10)',\n",
       " 'Si Chuck Norris beurre une tartine des deux côté elle retombera sur la tranche.': '(8.22/10)',\n",
       " \"Quand Chuck Norris fait le Tour de France, il passe par les DOM TOM sinon c'est trop facile.\": '(8.22/10)',\n",
       " \"Un jour, Chuck Norris a parié qu'il pouvait sodomiser un ours. Il a gagné son pari. Neuf mois plus tard naissait Sébastien Chabal.\": '(8.22/10)',\n",
       " \"Wall Street n'est que la 3ème bourse au monde, il y a d'abord les deux de Chuck Norris.\": '(8.22/10)',\n",
       " \"Si Mickey a quatre doigts, c'est parce qu'il a fait un doigt d'honneur à Chuck Norris.\": '(8.22/10)',\n",
       " \"Avec un concombre, une boîte de thon et de l'huile d'olive, Chuck Norris fait de très bons brownies au chocolat.\": '(8.22/10)',\n",
       " 'Chuck Norris sait qui est le méchant dans Tetris.': '(8.22/10)',\n",
       " \"A l'école Chuck Norris ne faisait pas une sarbacane avec ses vieux stylos, il faisait un 357 magnum\": '(8.22/10)',\n",
       " 'Lorsque Chuck Norris va au cinema et que son portable sonne, on met sur pause.': '(8.22/10)',\n",
       " \"Quand Chuck Norris va aux toilettes, il y a toujours du papier. Chuck Norris n'est jamais au bout du rouleau.\": '(8.22/10)',\n",
       " 'Si le Titanic a coulé, c\\'est parce que Chuck Norris avait entendu un blondinet crier \"Je suis le maître du monde!\".': '(8.22/10)',\n",
       " \"A son mariage, Chuck Norris avait Oncle Ben's en personne pour lui jeter du riz.\": '(8.22/10)',\n",
       " 'Chuck Norris peut dire Schweppes en verlan.': '(8.22/10)',\n",
       " 'Comme la foudre, Chuck Norris ne frappe jamais deux fois au même endroit. Pas besoin.': '(8.22/10)',\n",
       " \"Chuck Norris a battu le record de saut à la perche, sans prendre d'élan. Et sans perche. Et sans sauter.\": '(8.22/10)',\n",
       " 'Quand Chuck Norris fait du ski tout nu, il laisse 3 traces dans la neige.': '(8.22/10)',\n",
       " \"Quand Chuck Norris ne répond pas correctement à une énigme du Père Fouras, c'est le Père Fouras qui plonge pour chercher la clef.\": '(8.22/10)',\n",
       " 'Archimède a dit: \"Donnez moi un point d\\'appui, un levier, et je vous soulèverai le monde!\".Chuck Norris a dit: \"Donnez moi 30 secondes!\".': '(8.22/10)',\n",
       " 'A Halloween les enfants qui se déguisent en Chuck Norris et qui demandent des bonbons chez les voisins repartent avec les bonbons, la carte de crédit, les clefs de la voiture et la femme du voisin.': '(8.22/10)',\n",
       " \"Les seuls qui ont osé défier Chuck Norris sont: les dinosaures, le gouvernement de l'Atlantide et Charlie.Résultat: tous ont disparu, mais on cherche encore Charlie !\": '(8.22/10)',\n",
       " \"Quand Chuck Norris s'est mis aux arts martiaux, les Japonais se sont reconvertis dans les jeux videos.\": '(8.22/10)',\n",
       " 'Quand Chuck Norris laisse sa voiture ouverte la nuit dans une cité difficile, le lendemain matin il la retrouve nettoyée, aspirée avec des lettres de remerciements.': '(8.22/10)',\n",
       " 'Hercule est un demi Dieu et Dieu est un demi Chuck Norris.': '(8.22/10)',\n",
       " 'Un jour, Chuck Norris a pété un câble. Ainsi est né le wi-fi.': '(8.22/10)',\n",
       " 'Quand Chuck Norris joue à Resident Evil, ce sont les zombies qui doivent survivre...': '(8.22/10)',\n",
       " 'Chuck Norris a accroché Magneto des X-men sur son frigo.': '(8.22/10)',\n",
       " \"Chuck Norris ne dépose pas d'argent à la banque. Chuck Norris n'épargne rien, ni personne.\": '(8.22/10)',\n",
       " \"Si Chuck Norris dit que tu vas passer un sale quart d'heure, rassure-toi, tu ne tiendras pas aussi longtemps.\": '(8.22/10)',\n",
       " \"Quand Chuck Norris lui dit qu'il est gros, Obélix ferme sa gueule.\": '(8.21/10)',\n",
       " \"Pi est égale a 3,14...Pas par coïncidence, seulement parce que la 3eme lettre de l'alphabet est C et la 14eme est N...Pi=CN=Chuck Norris\": '(8.21/10)',\n",
       " 'Chuck Norris a déjà couru une minute en moins de soixante secondes.': '(8.21/10)',\n",
       " \"C'est Chuck Norris qui a décidé que toute phrase se terminait par un poing.\": '(8.21/10)',\n",
       " \"La dernière fois que Chuck Norris a joué a Call of Duty, c'était de 1939 à 1945.\": '(8.21/10)',\n",
       " 'Si Chuck Norris te donne rendez-vous le 30 Fevrier, tu y vas.': '(8.21/10)',\n",
       " 'Chuck Norris est vraiment le 100 000ème internaute à voir cette bannière et à remporter la voiture.': '(8.21/10)',\n",
       " \"Aux Jeux Olympiques, Chuck Norris a été disqualifié de l'épreuve de natation. Il courait sur l'eau.\": '(8.21/10)',\n",
       " \"Indiana Jones a survécu à l'explosion d'une bombe nucléaire en se cachant dans un frigo. Chuck Norris a survécu à la chute de l'astéroïde qui pulvérisa les dinosaures en mettant un k-way.\": '(8.21/10)',\n",
       " 'Chuck Norris a eu 20/20 au bac philo 2009 en répondant \"pas pour moi\" à la question \"est il absurde de désirer l\\'impossible ?\".': '(8.21/10)',\n",
       " \"Si les anglais roulent à gauche, c'est parce que Chuck Norris roule à droite\": '(8.21/10)',\n",
       " 'Chuck Norris x 0 = Chuck Norris. On élimine pas Chuck Norris aussi facilement.': '(8.21/10)',\n",
       " \"Si la douleur n'est qu'une information pour le Terminator, elle n'est qu'une rumeur sans fondement pour Chuck Norris.\": '(8.21/10)',\n",
       " \"Chuck Norris a toujours raison.Et s'il a tort, c'est qu'il a raison d'avoir tort.\": '(8.21/10)',\n",
       " 'Chuck Norris a réalisé un film avec Paint': '(8.21/10)',\n",
       " \"Un jour, Chuck Norris a souri à une inconnue. La fille est tombée enceinte. Depuis on construit des églises pour vénérer l'enfant.\": '(8.21/10)',\n",
       " 'Chuck Norris peut plier une chips sans la briser.': '(8.21/10)',\n",
       " 'Chuck Norris peut mettre un headshot au cavalier sans tête.': '(8.21/10)',\n",
       " \"Certains arrivent à faire des O en expirant la fumée d'un cigare. Chuck Norris, lui, sait reproduire l'intégralité de l'alphabet chinois.\": '(8.21/10)',\n",
       " \"Un jour, un canard et un castor se sont foutu de la gueule de Chuck Norris. Depuis, l'ornithorynque a vraiment l'air d'un con.\": '(8.21/10)',\n",
       " 'Quand on meurt on ne voit pas de lumiere blanche ni sa vie défiler devant ses yeux. Par contre on entend le générique de fin de Walker Texas Ranger': '(8.21/10)',\n",
       " 'Chuck Norris cueille les cerises avec la queue, alors que beaucoup galèrent encore avec la main.': '(8.21/10)'}"
      ]
     },
     "execution_count": 14,
     "metadata": {},
     "output_type": "execute_result"
    }
   ],
   "source": [
    "blagues_notes_dict"
   ]
  },
  {
   "cell_type": "markdown",
   "metadata": {},
   "source": [
    "### 2. Création d'un DataFrame avec les résultats"
   ]
  },
  {
   "cell_type": "code",
   "execution_count": 15,
   "metadata": {},
   "outputs": [
    {
     "name": "stdout",
     "output_type": "stream",
     "text": [
      "Nombre de lignes dans le DataFrame : 100\n"
     ]
    }
   ],
   "source": [
    "# Transformer le dictionnaire en DataFrame\n",
    "df2 = pd.DataFrame(list(blagues_notes_dict.items()), columns=[\"blague\", \"note\"])\n",
    "\n",
    "# Vérifier qu'il y a bien 100 lignes\n",
    "print(f\"Nombre de lignes dans le DataFrame : {len(df2)}\")"
   ]
  },
  {
   "cell_type": "code",
   "execution_count": 16,
   "metadata": {},
   "outputs": [
    {
     "data": {
      "text/html": [
       "<div>\n",
       "<style scoped>\n",
       "    .dataframe tbody tr th:only-of-type {\n",
       "        vertical-align: middle;\n",
       "    }\n",
       "\n",
       "    .dataframe tbody tr th {\n",
       "        vertical-align: top;\n",
       "    }\n",
       "\n",
       "    .dataframe thead th {\n",
       "        text-align: right;\n",
       "    }\n",
       "</style>\n",
       "<table border=\"1\" class=\"dataframe\">\n",
       "  <thead>\n",
       "    <tr style=\"text-align: right;\">\n",
       "      <th></th>\n",
       "      <th>blague</th>\n",
       "      <th>note</th>\n",
       "    </tr>\n",
       "  </thead>\n",
       "  <tbody>\n",
       "    <tr>\n",
       "      <th>61</th>\n",
       "      <td>A son mariage, Chuck Norris avait Oncle Ben's ...</td>\n",
       "      <td>(8.22/10)</td>\n",
       "    </tr>\n",
       "    <tr>\n",
       "      <th>31</th>\n",
       "      <td>Chuck Norris peut y aller par 4 chemins</td>\n",
       "      <td>(8.23/10)</td>\n",
       "    </tr>\n",
       "    <tr>\n",
       "      <th>33</th>\n",
       "      <td>Chuck Norris joue au cerf-volant avec de vrais...</td>\n",
       "      <td>(8.23/10)</td>\n",
       "    </tr>\n",
       "    <tr>\n",
       "      <th>36</th>\n",
       "      <td>Un jour Chuck Norris a lu le dictionnaire. Il ...</td>\n",
       "      <td>(8.23/10)</td>\n",
       "    </tr>\n",
       "    <tr>\n",
       "      <th>15</th>\n",
       "      <td>Chuck Norris ne se masturbe jamais. Chuck Norr...</td>\n",
       "      <td>(8.28/10)</td>\n",
       "    </tr>\n",
       "    <tr>\n",
       "      <th>97</th>\n",
       "      <td>Un jour, un canard et un castor se sont foutu ...</td>\n",
       "      <td>(8.21/10)</td>\n",
       "    </tr>\n",
       "    <tr>\n",
       "      <th>8</th>\n",
       "      <td>Les ennemis de Chuck Norris lui disent souvent...</td>\n",
       "      <td>(8.30/10)</td>\n",
       "    </tr>\n",
       "    <tr>\n",
       "      <th>24</th>\n",
       "      <td>Certains disent : \"La violence ne résout rien\"...</td>\n",
       "      <td>(8.24/10)</td>\n",
       "    </tr>\n",
       "    <tr>\n",
       "      <th>64</th>\n",
       "      <td>Chuck Norris a battu le record de saut à la pe...</td>\n",
       "      <td>(8.22/10)</td>\n",
       "    </tr>\n",
       "    <tr>\n",
       "      <th>79</th>\n",
       "      <td>Pi est égale a 3,14...Pas par coïncidence, seu...</td>\n",
       "      <td>(8.21/10)</td>\n",
       "    </tr>\n",
       "  </tbody>\n",
       "</table>\n",
       "</div>"
      ],
      "text/plain": [
       "                                               blague       note\n",
       "61  A son mariage, Chuck Norris avait Oncle Ben's ...  (8.22/10)\n",
       "31            Chuck Norris peut y aller par 4 chemins  (8.23/10)\n",
       "33  Chuck Norris joue au cerf-volant avec de vrais...  (8.23/10)\n",
       "36  Un jour Chuck Norris a lu le dictionnaire. Il ...  (8.23/10)\n",
       "15  Chuck Norris ne se masturbe jamais. Chuck Norr...  (8.28/10)\n",
       "97  Un jour, un canard et un castor se sont foutu ...  (8.21/10)\n",
       "8   Les ennemis de Chuck Norris lui disent souvent...  (8.30/10)\n",
       "24  Certains disent : \"La violence ne résout rien\"...  (8.24/10)\n",
       "64  Chuck Norris a battu le record de saut à la pe...  (8.22/10)\n",
       "79  Pi est égale a 3,14...Pas par coïncidence, seu...  (8.21/10)"
      ]
     },
     "execution_count": 16,
     "metadata": {},
     "output_type": "execute_result"
    }
   ],
   "source": [
    "df2.sample(10)"
   ]
  },
  {
   "cell_type": "code",
   "execution_count": 22,
   "metadata": {},
   "outputs": [],
   "source": [
    "# Nettoyage de la colonne 'note'\n",
    "df2['note'] = df2['note'].str.replace(r\"\\(|/10\\)\", \"\", regex=True)\n",
    "\n",
    "# Conversion de la colonne 'note' en float\n",
    "df2['note'] = df2['note'].astype(float)"
   ]
  },
  {
   "cell_type": "code",
   "execution_count": 23,
   "metadata": {},
   "outputs": [
    {
     "data": {
      "text/html": [
       "<div>\n",
       "<style scoped>\n",
       "    .dataframe tbody tr th:only-of-type {\n",
       "        vertical-align: middle;\n",
       "    }\n",
       "\n",
       "    .dataframe tbody tr th {\n",
       "        vertical-align: top;\n",
       "    }\n",
       "\n",
       "    .dataframe thead th {\n",
       "        text-align: right;\n",
       "    }\n",
       "</style>\n",
       "<table border=\"1\" class=\"dataframe\">\n",
       "  <thead>\n",
       "    <tr style=\"text-align: right;\">\n",
       "      <th></th>\n",
       "      <th>blague</th>\n",
       "      <th>note</th>\n",
       "    </tr>\n",
       "  </thead>\n",
       "  <tbody>\n",
       "    <tr>\n",
       "      <th>25</th>\n",
       "      <td>Quand Chuck Norris viole la loi, elle en redem...</td>\n",
       "      <td>8.24</td>\n",
       "    </tr>\n",
       "    <tr>\n",
       "      <th>35</th>\n",
       "      <td>Le fusil a pompe de Chuck Norris est en prison...</td>\n",
       "      <td>8.23</td>\n",
       "    </tr>\n",
       "    <tr>\n",
       "      <th>20</th>\n",
       "      <td>Moïse a coupé la mer en deux. Chuck Norris l'a...</td>\n",
       "      <td>8.25</td>\n",
       "    </tr>\n",
       "    <tr>\n",
       "      <th>21</th>\n",
       "      <td>Un jour, un gaulois a cru qu'il pouvait attaqu...</td>\n",
       "      <td>8.25</td>\n",
       "    </tr>\n",
       "    <tr>\n",
       "      <th>72</th>\n",
       "      <td>Hercule est un demi Dieu et Dieu est un demi C...</td>\n",
       "      <td>8.22</td>\n",
       "    </tr>\n",
       "    <tr>\n",
       "      <th>64</th>\n",
       "      <td>Chuck Norris a battu le record de saut à la pe...</td>\n",
       "      <td>8.22</td>\n",
       "    </tr>\n",
       "    <tr>\n",
       "      <th>60</th>\n",
       "      <td>Si le Titanic a coulé, c'est parce que Chuck N...</td>\n",
       "      <td>8.22</td>\n",
       "    </tr>\n",
       "    <tr>\n",
       "      <th>7</th>\n",
       "      <td>Les samouraïs tuent des mouches avec leurs sab...</td>\n",
       "      <td>8.32</td>\n",
       "    </tr>\n",
       "    <tr>\n",
       "      <th>93</th>\n",
       "      <td>Un jour, Chuck Norris a souri à une inconnue. ...</td>\n",
       "      <td>8.21</td>\n",
       "    </tr>\n",
       "    <tr>\n",
       "      <th>18</th>\n",
       "      <td>Un jour, Chuck Norris a courru si vite qu'il a...</td>\n",
       "      <td>8.25</td>\n",
       "    </tr>\n",
       "  </tbody>\n",
       "</table>\n",
       "</div>"
      ],
      "text/plain": [
       "                                               blague  note\n",
       "25  Quand Chuck Norris viole la loi, elle en redem...  8.24\n",
       "35  Le fusil a pompe de Chuck Norris est en prison...  8.23\n",
       "20  Moïse a coupé la mer en deux. Chuck Norris l'a...  8.25\n",
       "21  Un jour, un gaulois a cru qu'il pouvait attaqu...  8.25\n",
       "72  Hercule est un demi Dieu et Dieu est un demi C...  8.22\n",
       "64  Chuck Norris a battu le record de saut à la pe...  8.22\n",
       "60  Si le Titanic a coulé, c'est parce que Chuck N...  8.22\n",
       "7   Les samouraïs tuent des mouches avec leurs sab...  8.32\n",
       "93  Un jour, Chuck Norris a souri à une inconnue. ...  8.21\n",
       "18  Un jour, Chuck Norris a courru si vite qu'il a...  8.25"
      ]
     },
     "execution_count": 23,
     "metadata": {},
     "output_type": "execute_result"
    }
   ],
   "source": [
    "df2.sample(10)"
   ]
  },
  {
   "cell_type": "markdown",
   "metadata": {},
   "source": [
    "### 3. Visualisation de la Distribution des Notes"
   ]
  },
  {
   "cell_type": "code",
   "execution_count": 25,
   "metadata": {},
   "outputs": [
    {
     "data": {
      "image/png": "[encoded data removed]",
      "text/plain": [
       "<Figure size 1000x600 with 1 Axes>"
      ]
     },
     "metadata": {},
     "output_type": "display_data"
    }
   ],
   "source": [
    "import matplotlib.pyplot as plt\n",
    "\n",
    "# Visualisation de la distribution des notes\n",
    "plt.figure(figsize=(10, 6))\n",
    "plt.hist(df2['note'], bins=10, edgecolor='black', color='skyblue')\n",
    "plt.title('Distribution des notes des Blagues de Chuck Norris')\n",
    "plt.xlabel('Note')\n",
    "plt.ylabel('Fréquence')\n",
    "plt.grid(True)\n",
    "plt.show()"
   ]
  }
 ],
 "metadata": {
  "kernelspec": {
   "display_name": "base",
   "language": "python",
   "name": "python3"
  },
  "language_info": {
   "codemirror_mode": {
    "name": "ipython",
    "version": 3
   },
   "file_extension": ".py",
   "mimetype": "text/x-python",
   "name": "python",
   "nbconvert_exporter": "python",
   "pygments_lexer": "ipython3",
   "version": "3.12.4"
  }
 },
 "nbformat": 4,
 "nbformat_minor": 2
}
